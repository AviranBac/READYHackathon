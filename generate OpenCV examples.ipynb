{
 "cells": [
  {
   "cell_type": "code",
   "execution_count": 2,
   "metadata": {},
   "outputs": [],
   "source": [
    "# Using webcam\n",
    "\n",
    "import os\n",
    "import sys\n",
    "import matplotlib.pyplot as plt\n",
    "import cv2\n",
    "import time\n",
    "\n",
    "# Pick planePics/noPlancePics\n",
    "\n",
    "for pic in range(50):\n",
    "\n",
    "    video_capture = cv2.VideoCapture(0)\n",
    "\n",
    "    # Capture frame-by-frame\n",
    "    ret, frame = video_capture.read()\n",
    "\n",
    "    # resized is for neural net\n",
    "    resized = cv2.resize(frame, (256,256)) \n",
    "    \n",
    "    #print(resized)\n",
    "    # color for neural net\n",
    "    #resized = cv2.cvtColor(resized, cv2.COLOR_BGR2RGB)\n",
    "    \n",
    "    #break\n",
    "\n",
    "    lastindex = len(os.listdir(\"D:\\READY\\CVgeneratedPics\\planePics\")) + 1\n",
    "    \n",
    "    # save image\n",
    "\n",
    "    cv2.imwrite(r'D:\\READY\\CVgeneratedPics\\planePics\\plane'+ str(lastindex) +'.jpg', resized)\n",
    "    \n",
    "    time.sleep(0.1)\n",
    "\n"
   ]
  },
  {
   "cell_type": "code",
   "execution_count": null,
   "metadata": {},
   "outputs": [],
   "source": []
  }
 ],
 "metadata": {
  "kernelspec": {
   "display_name": "Python 3",
   "language": "python",
   "name": "python3"
  },
  "language_info": {
   "codemirror_mode": {
    "name": "ipython",
    "version": 3
   },
   "file_extension": ".py",
   "mimetype": "text/x-python",
   "name": "python",
   "nbconvert_exporter": "python",
   "pygments_lexer": "ipython3",
   "version": "3.6.7"
  }
 },
 "nbformat": 4,
 "nbformat_minor": 2
}
