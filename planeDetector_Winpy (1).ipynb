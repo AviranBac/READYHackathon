{
 "cells": [
  {
   "cell_type": "code",
   "execution_count": 1,
   "metadata": {},
   "outputs": [],
   "source": [
    "import tensorflow"
   ]
  },
  {
   "cell_type": "code",
   "execution_count": 2,
   "metadata": {},
   "outputs": [],
   "source": [
    "import cv2"
   ]
  },
  {
   "cell_type": "code",
   "execution_count": 3,
   "metadata": {},
   "outputs": [
    {
     "name": "stdout",
     "output_type": "stream",
     "text": [
      "200 OK\n"
     ]
    }
   ],
   "source": [
    "import requests\n",
    "import datetime\n",
    "\n",
    "\n",
    "def postRequest(dataToSend, picture):\n",
    "    r = requests.post(\"http://10.10.247.124:3000/detections\", data=dataToSend)\n",
    "    print(r.status_code, r.reason)\n",
    "    \n",
    "def uploadRequest(pictureToSend):\n",
    "    r = requests.post(\"http://10.10.247.124:3000/uploadImage\", files=pictureToSend)\n",
    "    print(r.status_code, r.reason)\n",
    "    \n",
    "currTime = datetime.datetime.now().strftime(\"%Y-%m-%d %H:%M:%S\")\n",
    "pictureUrl = './planesDetection/plane2.jpg'\n",
    "picture = {'upload_file':open(pictureUrl,'rb'), 'detectionTime':currTime, 'planeHeight':666,'planeDistance':500, 'isOurs':1, 'isShutdown': 1}\n",
    "#uploadRequest({'upload_file': open(pictureUrl, 'rb')})\n",
    "postRequest({'detectionTime':currTime, 'planeHeight':666,'planeDistance':500, 'isOurs':1, 'isShutdown': 1, 'imageUrl': 'plane2.jpg'}, picture)\n",
    "    "
   ]
  },
  {
   "cell_type": "code",
   "execution_count": 4,
   "metadata": {},
   "outputs": [],
   "source": [
    "# Arduino\n",
    "import serial #for Serial communication\n",
    "import time   #for delay functions\n",
    "\n",
    "arduino = serial.Serial('com6',9600) #Create Serial port object called arduinoSerialData\n",
    "time.sleep(2) #wait for 2 secounds for the communication to get established\n",
    "\n",
    "def arduino_alarm():\n",
    "    arduino.write(b'1') #send 1\n",
    "    print (\"LED turned ON\")\n",
    "    #time.sleep(1)\n",
    "\n",
    "#arduino_alarm()"
   ]
  },
  {
   "cell_type": "code",
   "execution_count": 20,
   "metadata": {},
   "outputs": [
    {
     "name": "stdout",
     "output_type": "stream",
     "text": [
      "LED turned ON\n",
      "200 OK\n",
      "LED turned ON\n",
      "200 OK\n",
      "LED turned ON\n",
      "200 OK\n"
     ]
    }
   ],
   "source": [
    "# Using webcam\n",
    "\n",
    "import sys\n",
    "import matplotlib.pyplot as plt\n",
    "import datetime\n",
    "import numpy as np\n",
    "\n",
    "\n",
    "video_capture = cv2.VideoCapture(0)\n",
    "last_observation = 0\n",
    "\n",
    "while True:\n",
    "    # Capture frame-by-frame\n",
    "    ret, frame = video_capture.read()\n",
    "    \n",
    "    # resized is for neural net\n",
    "    resized = cv2.resize(frame, (256,256)) \n",
    "    \n",
    "    \n",
    "    # color for neural net\n",
    "    #resized = cv2.cvtColor(resized, cv2.COLOR_BGR2RGB)\n",
    "    \n",
    "    #plt.imshow(resized_colored)    \n",
    "    #break\n",
    "    \n",
    "    prediction = model.predict(np.array([flatten_arr(resized)]))[0]\n",
    "    \n",
    "    # Run neural network\n",
    "    if(prediction[0] == 0): \n",
    "        cv2.rectangle(frame, (0, 0), (30, 30), (0, 255, 0), 2) # no Plane\n",
    "        last_observation = 0\n",
    "    else: \n",
    "        if(last_observation != 1): # Making sure not the same plane\n",
    "            cv2.rectangle(frame, (0, 0), (30, 30), (0, 0, 255), 2) # plane !\n",
    "            last_observation = 1\n",
    "            \n",
    "            # Alarm arduino !\n",
    "            arduino_alarm()\n",
    "            \n",
    "            # send request\n",
    "            currTime = datetime.datetime.now().strftime(\"%Y-%m-%d %H:%M:%S\")\n",
    "\n",
    "            \n",
    "            # ROY & AVIRAN SENDING IMAGE\n",
    "            lastindex = len(os.listdir(\"./planesDetection\")) + 1\n",
    "            pictureUrl = \"./planesDetection/plane\" + str(lastindex) + '.jpg'\n",
    "            cv2.imwrite(pictureUrl, frame)\n",
    "            picture = open(pictureUrl,'rb')\n",
    "            postRequest({'detectionTime':currTime, 'planeHeight':666,'planeDistance':555, 'isOurs':1, 'isShutdown': 1, 'imageUrl': 'plane' + str(lastindex) + '.jpg'}, picture)\n",
    "\n",
    "            #time.sleep(3) # EASY EASY SOLUTION !\n",
    "        \n",
    "\n",
    "    # Display the resulting frame\n",
    "    cv2.imshow('Video', frame)\n",
    "\n",
    "    if cv2.waitKey(1) & 0xFF == ord('q'):\n",
    "        break\n",
    "\n",
    "# When everything is done, release the capture\n",
    "video_capture.release()\n",
    "cv2.destroyAllWindows()\n"
   ]
  },
  {
   "cell_type": "code",
   "execution_count": 5,
   "metadata": {},
   "outputs": [
    {
     "ename": "NameError",
     "evalue": "name 'np' is not defined",
     "output_type": "error",
     "traceback": [
      "\u001b[1;31m---------------------------------------------------------------------------\u001b[0m",
      "\u001b[1;31mNameError\u001b[0m                                 Traceback (most recent call last)",
      "\u001b[1;32m<ipython-input-5-3dad8e85d7cb>\u001b[0m in \u001b[0;36m<module>\u001b[1;34m\u001b[0m\n\u001b[1;32m----> 1\u001b[1;33m \u001b[0mnp\u001b[0m\u001b[1;33m.\u001b[0m\u001b[0marray\u001b[0m\u001b[1;33m(\u001b[0m\u001b[1;33m[\u001b[0m\u001b[0mflatten_arr\u001b[0m\u001b[1;33m(\u001b[0m\u001b[0mresized\u001b[0m\u001b[1;33m)\u001b[0m\u001b[1;33m]\u001b[0m\u001b[1;33m)\u001b[0m\u001b[1;33m[\u001b[0m\u001b[1;36m0\u001b[0m\u001b[1;33m]\u001b[0m\u001b[1;33m.\u001b[0m\u001b[0mshape\u001b[0m\u001b[1;33m\u001b[0m\u001b[1;33m\u001b[0m\u001b[0m\n\u001b[0m",
      "\u001b[1;31mNameError\u001b[0m: name 'np' is not defined"
     ]
    }
   ],
   "source": [
    "np.array([flatten_arr(resized)])[0].shape"
   ]
  },
  {
   "cell_type": "code",
   "execution_count": 6,
   "metadata": {},
   "outputs": [],
   "source": [
    "import tensorflow\n",
    "import numpy as np\n",
    "import PIL\n",
    "from PIL import Image\n",
    "from matplotlib.pyplot import imshow\n",
    "\n"
   ]
  },
  {
   "cell_type": "code",
   "execution_count": 7,
   "metadata": {},
   "outputs": [
    {
     "name": "stdout",
     "output_type": "stream",
     "text": [
      "1.12.0-rc2\n"
     ]
    }
   ],
   "source": [
    "from __future__ import absolute_import, division, print_function\n",
    "\n",
    "# TensorFlow and tf.keras\n",
    "import tensorflow as tf\n",
    "from tensorflow import keras\n",
    "import os\n",
    "\n",
    "# Helper libraries\n",
    "import numpy as np\n",
    "import matplotlib.pyplot as plt\n",
    "\n",
    "print(tf.__version__)"
   ]
  },
  {
   "cell_type": "code",
   "execution_count": 8,
   "metadata": {},
   "outputs": [],
   "source": [
    "def flatten_arr(arr):\n",
    "    num_elements = 1\n",
    "    for dim in arr.shape:\n",
    "        num_elements*=dim\n",
    "    \n",
    "    return arr.reshape(num_elements,1)\n",
    "\n",
    "size = 256,256"
   ]
  },
  {
   "cell_type": "code",
   "execution_count": 9,
   "metadata": {},
   "outputs": [
    {
     "ename": "FileExistsError",
     "evalue": "[WinError 183] Cannot create a file when that file already exists: './planesDataset/planePics/plane10.jpg' -> './planesDataset/planePics/plane2.jpg'",
     "output_type": "error",
     "traceback": [
      "\u001b[1;31m---------------------------------------------------------------------------\u001b[0m",
      "\u001b[1;31mFileExistsError\u001b[0m                           Traceback (most recent call last)",
      "\u001b[1;32m<ipython-input-9-2ced3af8e3a1>\u001b[0m in \u001b[0;36m<module>\u001b[1;34m\u001b[0m\n\u001b[0;32m      2\u001b[0m \u001b[0mc\u001b[0m \u001b[1;33m=\u001b[0m \u001b[1;36m1\u001b[0m\u001b[1;33m\u001b[0m\u001b[1;33m\u001b[0m\u001b[0m\n\u001b[0;32m      3\u001b[0m \u001b[1;32mfor\u001b[0m \u001b[0mfilename\u001b[0m \u001b[1;32min\u001b[0m \u001b[0mos\u001b[0m\u001b[1;33m.\u001b[0m\u001b[0mlistdir\u001b[0m\u001b[1;33m(\u001b[0m\u001b[1;34m\"./planesDataset/planePics\"\u001b[0m\u001b[1;33m)\u001b[0m\u001b[1;33m:\u001b[0m\u001b[1;33m\u001b[0m\u001b[1;33m\u001b[0m\u001b[0m\n\u001b[1;32m----> 4\u001b[1;33m     \u001b[0mos\u001b[0m\u001b[1;33m.\u001b[0m\u001b[0mrename\u001b[0m\u001b[1;33m(\u001b[0m\u001b[1;34m\"./planesDataset/planePics/\"\u001b[0m \u001b[1;33m+\u001b[0m \u001b[0mfilename\u001b[0m\u001b[1;33m,\u001b[0m \u001b[1;34m\"./planesDataset/planePics/plane\"\u001b[0m \u001b[1;33m+\u001b[0m \u001b[0mstr\u001b[0m\u001b[1;33m(\u001b[0m\u001b[0mc\u001b[0m\u001b[1;33m)\u001b[0m \u001b[1;33m+\u001b[0m \u001b[1;34m\".jpg\"\u001b[0m\u001b[1;33m)\u001b[0m\u001b[1;33m\u001b[0m\u001b[1;33m\u001b[0m\u001b[0m\n\u001b[0m\u001b[0;32m      5\u001b[0m     \u001b[0mc\u001b[0m \u001b[1;33m+=\u001b[0m \u001b[1;36m1\u001b[0m\u001b[1;33m\u001b[0m\u001b[1;33m\u001b[0m\u001b[0m\n",
      "\u001b[1;31mFileExistsError\u001b[0m: [WinError 183] Cannot create a file when that file already exists: './planesDataset/planePics/plane10.jpg' -> './planesDataset/planePics/plane2.jpg'"
     ]
    }
   ],
   "source": [
    "# Rename plane\n",
    "c = 1\n",
    "for filename in os.listdir(\"./planesDataset/planePics\"):\n",
    "    os.rename(\"./planesDataset/planePics/\" + filename, \"./planesDataset/planePics/plane\" + str(c) + \".jpg\")\n",
    "    c += 1\n"
   ]
  },
  {
   "cell_type": "code",
   "execution_count": 10,
   "metadata": {},
   "outputs": [
    {
     "ename": "FileExistsError",
     "evalue": "[WinError 183] Cannot create a file when that file already exists: './planesDataset/noPlanePics/noPlane10.jpg' -> './planesDataset/noPlanePics/noPlane2.jpg'",
     "output_type": "error",
     "traceback": [
      "\u001b[1;31m---------------------------------------------------------------------------\u001b[0m",
      "\u001b[1;31mFileExistsError\u001b[0m                           Traceback (most recent call last)",
      "\u001b[1;32m<ipython-input-10-648749e8b3d8>\u001b[0m in \u001b[0;36m<module>\u001b[1;34m\u001b[0m\n\u001b[0;32m      2\u001b[0m \u001b[0mc\u001b[0m \u001b[1;33m=\u001b[0m \u001b[1;36m1\u001b[0m\u001b[1;33m\u001b[0m\u001b[1;33m\u001b[0m\u001b[0m\n\u001b[0;32m      3\u001b[0m \u001b[1;32mfor\u001b[0m \u001b[0mfilename\u001b[0m \u001b[1;32min\u001b[0m \u001b[0mos\u001b[0m\u001b[1;33m.\u001b[0m\u001b[0mlistdir\u001b[0m\u001b[1;33m(\u001b[0m\u001b[1;34m\"./planesDataset/noPlanePics\"\u001b[0m\u001b[1;33m)\u001b[0m\u001b[1;33m:\u001b[0m\u001b[1;33m\u001b[0m\u001b[1;33m\u001b[0m\u001b[0m\n\u001b[1;32m----> 4\u001b[1;33m     \u001b[0mos\u001b[0m\u001b[1;33m.\u001b[0m\u001b[0mrename\u001b[0m\u001b[1;33m(\u001b[0m\u001b[1;34m\"./planesDataset/noPlanePics/\"\u001b[0m \u001b[1;33m+\u001b[0m \u001b[0mfilename\u001b[0m\u001b[1;33m,\u001b[0m \u001b[1;34m\"./planesDataset/noPlanePics/noPlane\"\u001b[0m \u001b[1;33m+\u001b[0m \u001b[0mstr\u001b[0m\u001b[1;33m(\u001b[0m\u001b[0mc\u001b[0m\u001b[1;33m)\u001b[0m \u001b[1;33m+\u001b[0m \u001b[1;34m\".jpg\"\u001b[0m\u001b[1;33m)\u001b[0m\u001b[1;33m\u001b[0m\u001b[1;33m\u001b[0m\u001b[0m\n\u001b[0m\u001b[0;32m      5\u001b[0m     \u001b[0mc\u001b[0m \u001b[1;33m+=\u001b[0m \u001b[1;36m1\u001b[0m\u001b[1;33m\u001b[0m\u001b[1;33m\u001b[0m\u001b[0m\n",
      "\u001b[1;31mFileExistsError\u001b[0m: [WinError 183] Cannot create a file when that file already exists: './planesDataset/noPlanePics/noPlane10.jpg' -> './planesDataset/noPlanePics/noPlane2.jpg'"
     ]
    }
   ],
   "source": [
    "# Rename not plane\n",
    "c = 1\n",
    "for filename in os.listdir(\"./planesDataset/noPlanePics\"):\n",
    "    os.rename(\"./planesDataset/noPlanePics/\" + filename, \"./planesDataset/noPlanePics/noPlane\" + str(c) + \".jpg\")\n",
    "    c += 1\n"
   ]
  },
  {
   "cell_type": "code",
   "execution_count": 11,
   "metadata": {},
   "outputs": [],
   "source": [
    "# Generating data set\n",
    "planes = []\n",
    "noPlanes = []\n",
    "\n",
    "size = 256,256\n",
    "\n",
    "for filename in os.listdir(\"./planesDataset/planePics\"):\n",
    "    \n",
    "    try:\n",
    "    \n",
    "        img = PIL.Image.open(\"./planesDataset/planePics/\" + filename)\n",
    "        img = img.resize(size, Image.ANTIALIAS)\n",
    "\n",
    "        img = np.asarray(img)/255.0\n",
    "        img = flatten_arr(img)\n",
    "\n",
    "        planes.append([img,np.array([1,0])])\n",
    "\n",
    "\n",
    "        #print(filename)\n",
    "        #print(\"./planePics/\" + filename)\n",
    "    \n",
    "    except:\n",
    "        print(\"Fuck \" + filename)\n",
    "\n",
    "for filename in os.listdir(\"./planesDataset/noPlanePics\"):\n",
    "    try:\n",
    "        img = PIL.Image.open(\"./planesDataset/noPlanePics/\" + filename)\n",
    "        img = img.resize(size, Image.ANTIALIAS) \n",
    "\n",
    "        img = np.asarray(img)/255.0\n",
    "        img = flatten_arr(img)\n",
    "\n",
    "        #print(filename)\n",
    "        noPlanes.append([img,np.array([0,1])])\n",
    "    except:\n",
    "        print(\"Fuck \" + filename)\n"
   ]
  },
  {
   "cell_type": "code",
   "execution_count": 9,
   "metadata": {},
   "outputs": [
    {
     "data": {
      "text/plain": [
       "0"
      ]
     },
     "execution_count": 9,
     "metadata": {},
     "output_type": "execute_result"
    }
   ],
   "source": [
    "len(noPlanes)"
   ]
  },
  {
   "cell_type": "code",
   "execution_count": 10,
   "metadata": {},
   "outputs": [],
   "source": [
    "# Splitting data\n",
    "\n",
    "# planes_test = planes[80:]\n",
    "# noPlanes_test = planes[80:]\n",
    "\n",
    "# planes = planes[:80]\n",
    "# noPlanes = noPlanes[:80]\n",
    "\n",
    "# len(planes),len(planes_test)\n"
   ]
  },
  {
   "cell_type": "code",
   "execution_count": 11,
   "metadata": {},
   "outputs": [],
   "source": [
    "# random selection\n",
    "# new_planes = []\n",
    "# new_noPlanes = []\n",
    "\n",
    "# for p in range(0,15):\n",
    "#     new_planes.append(planes[p*5])\n",
    "#     new_noPlanes.append(noPlanes[p*5])\n",
    "# planes = new_planes\n",
    "\n",
    "# noPlanes = new_noPlanes"
   ]
  },
  {
   "cell_type": "code",
   "execution_count": 12,
   "metadata": {},
   "outputs": [],
   "source": [
    "# Shuffling data\n",
    "from random import shuffle\n",
    "\n",
    "data = planes + noPlanes\n",
    "shuffle(data)\n",
    "\n",
    "imgdata,label = [],[]\n",
    "\n",
    "\n",
    "for d in data:\n",
    "    imgdata.append(d[0])\n",
    "    label.append(d[1])"
   ]
  },
  {
   "cell_type": "code",
   "execution_count": 13,
   "metadata": {},
   "outputs": [],
   "source": [
    "# Saving\n",
    "# toucing tesnorflow's dick\n",
    "imgdata = np.asarray(imgdata)\n",
    "label = np.asarray(label)\n",
    "\n",
    "np.save('imgdata.npy', imgdata)\n",
    "np.save('label.npy',label)\n",
    "\n"
   ]
  },
  {
   "cell_type": "code",
   "execution_count": 14,
   "metadata": {},
   "outputs": [],
   "source": [
    "# ONLY RUN THIS\n",
    "\n",
    "imgdata = np.load('imgdata.npy')\n",
    "label = np.load('label.npy')"
   ]
  },
  {
   "cell_type": "code",
   "execution_count": 15,
   "metadata": {},
   "outputs": [
    {
     "name": "stdout",
     "output_type": "stream",
     "text": [
      "(100, 196608, 1)\n"
     ]
    },
    {
     "data": {
      "text/plain": [
       "100"
      ]
     },
     "execution_count": 15,
     "metadata": {},
     "output_type": "execute_result"
    }
   ],
   "source": [
    "print(imgdata.shape)\n",
    "len(label)"
   ]
  },
  {
   "cell_type": "code",
   "execution_count": 16,
   "metadata": {},
   "outputs": [],
   "source": [
    "# Deep learningg\n",
    "model = keras.Sequential([\n",
    "    keras.layers.Flatten(input_shape=(size[0]*size[1]*3,1)),\n",
    "    keras.layers.Dense(400, activation=tf.nn.relu),\n",
    "    keras.layers.Dense(400, activation=tf.nn.relu),\n",
    "    keras.layers.Dense(400, activation=tf.nn.relu),\n",
    "    keras.layers.Dense(400, activation=tf.nn.relu),\n",
    "    keras.layers.Dense(400, activation=tf.nn.relu),\n",
    "    keras.layers.Dense(2, activation=tf.nn.sigmoid)\n",
    "])"
   ]
  },
  {
   "cell_type": "code",
   "execution_count": 17,
   "metadata": {},
   "outputs": [],
   "source": [
    "model.compile(optimizer='sgd', \n",
    "              loss='binary_crossentropy',\n",
    "              metrics=['accuracy'])"
   ]
  },
  {
   "cell_type": "code",
   "execution_count": 18,
   "metadata": {},
   "outputs": [
    {
     "name": "stdout",
     "output_type": "stream",
     "text": [
      "Epoch 1/60\n",
      "100/100 [==============================] - 4s 35ms/step - loss: 0.7065 - acc: 0.4900\n",
      "Epoch 2/60\n",
      "100/100 [==============================] - 2s 16ms/step - loss: 0.7105 - acc: 0.5200\n",
      "Epoch 3/60\n",
      "100/100 [==============================] - 2s 16ms/step - loss: 0.9700 - acc: 0.4700\n",
      "Epoch 4/60\n",
      "100/100 [==============================] - 2s 16ms/step - loss: 0.8387 - acc: 0.6000\n",
      "Epoch 5/60\n",
      "100/100 [==============================] - 2s 16ms/step - loss: 0.6200 - acc: 0.6450\n",
      "Epoch 6/60\n",
      "100/100 [==============================] - 2s 16ms/step - loss: 0.8053 - acc: 0.4000\n",
      "Epoch 7/60\n",
      "100/100 [==============================] - 2s 16ms/step - loss: 0.6194 - acc: 0.6200\n",
      "Epoch 8/60\n",
      "100/100 [==============================] - 2s 16ms/step - loss: 0.6241 - acc: 0.7000\n",
      "Epoch 9/60\n",
      "100/100 [==============================] - 2s 16ms/step - loss: 0.5860 - acc: 0.7000\n",
      "Epoch 10/60\n",
      "100/100 [==============================] - 2s 16ms/step - loss: 0.6106 - acc: 0.7300\n",
      "Epoch 11/60\n",
      "100/100 [==============================] - 2s 16ms/step - loss: 0.5940 - acc: 0.6350\n",
      "Epoch 12/60\n",
      "100/100 [==============================] - 2s 16ms/step - loss: 0.7114 - acc: 0.7200\n",
      "Epoch 13/60\n",
      "100/100 [==============================] - 2s 16ms/step - loss: 0.6869 - acc: 0.6850\n",
      "Epoch 14/60\n",
      "100/100 [==============================] - 2s 16ms/step - loss: 0.6619 - acc: 0.7050\n",
      "Epoch 15/60\n",
      "100/100 [==============================] - 2s 16ms/step - loss: 0.3925 - acc: 0.9100\n",
      "Epoch 16/60\n",
      "100/100 [==============================] - 2s 16ms/step - loss: 0.4496 - acc: 0.8150\n",
      "Epoch 17/60\n",
      "100/100 [==============================] - 2s 16ms/step - loss: 0.4609 - acc: 0.7700\n",
      "Epoch 18/60\n",
      "100/100 [==============================] - 2s 16ms/step - loss: 0.6461 - acc: 0.6450\n",
      "Epoch 19/60\n",
      "100/100 [==============================] - 2s 16ms/step - loss: 0.5275 - acc: 0.6850\n",
      "Epoch 20/60\n",
      "100/100 [==============================] - 2s 16ms/step - loss: 0.2484 - acc: 0.9250\n",
      "Epoch 21/60\n",
      "100/100 [==============================] - 2s 16ms/step - loss: 0.5485 - acc: 0.7050\n",
      "Epoch 22/60\n",
      "100/100 [==============================] - 2s 16ms/step - loss: 0.2568 - acc: 0.9200\n",
      "Epoch 23/60\n",
      "100/100 [==============================] - 2s 16ms/step - loss: 0.2978 - acc: 0.8450\n",
      "Epoch 24/60\n",
      "100/100 [==============================] - 2s 16ms/step - loss: 0.4338 - acc: 0.7300\n",
      "Epoch 25/60\n",
      "100/100 [==============================] - 2s 17ms/step - loss: 0.2182 - acc: 0.9050\n",
      "Epoch 26/60\n",
      "100/100 [==============================] - 2s 17ms/step - loss: 0.1749 - acc: 0.9300\n",
      "Epoch 27/60\n",
      "100/100 [==============================] - 2s 16ms/step - loss: 0.2071 - acc: 0.9100\n",
      "Epoch 28/60\n",
      "100/100 [==============================] - 2s 16ms/step - loss: 0.1358 - acc: 0.9700\n",
      "Epoch 29/60\n",
      "100/100 [==============================] - 2s 16ms/step - loss: 0.8958 - acc: 0.5500\n",
      "Epoch 30/60\n",
      "100/100 [==============================] - 2s 16ms/step - loss: 0.2079 - acc: 0.9550\n",
      "Epoch 31/60\n",
      "100/100 [==============================] - 2s 16ms/step - loss: 0.1861 - acc: 0.9300\n",
      "Epoch 32/60\n",
      "100/100 [==============================] - 2s 16ms/step - loss: 0.1291 - acc: 0.9450\n",
      "Epoch 33/60\n",
      "100/100 [==============================] - 2s 16ms/step - loss: 0.1229 - acc: 0.9500\n",
      "Epoch 34/60\n",
      "100/100 [==============================] - 2s 16ms/step - loss: 0.1172 - acc: 0.9600\n",
      "Epoch 35/60\n",
      "100/100 [==============================] - 2s 16ms/step - loss: 0.1480 - acc: 0.9300\n",
      "Epoch 36/60\n",
      "100/100 [==============================] - 2s 16ms/step - loss: 0.1463 - acc: 0.9500\n",
      "Epoch 37/60\n",
      "100/100 [==============================] - 2s 16ms/step - loss: 0.2947 - acc: 0.8600\n",
      "Epoch 38/60\n",
      "100/100 [==============================] - 2s 16ms/step - loss: 0.1485 - acc: 0.9400\n",
      "Epoch 39/60\n",
      "100/100 [==============================] - 2s 16ms/step - loss: 0.2001 - acc: 0.9300\n",
      "Epoch 40/60\n",
      "100/100 [==============================] - 2s 16ms/step - loss: 0.1009 - acc: 0.9600\n",
      "Epoch 41/60\n",
      "100/100 [==============================] - 2s 16ms/step - loss: 0.1004 - acc: 0.9600\n",
      "Epoch 42/60\n",
      "100/100 [==============================] - 2s 16ms/step - loss: 0.1771 - acc: 0.9200\n",
      "Epoch 43/60\n",
      "100/100 [==============================] - 2s 16ms/step - loss: 0.0808 - acc: 0.9500\n",
      "Epoch 44/60\n",
      "100/100 [==============================] - 2s 17ms/step - loss: 0.6315 - acc: 0.8400\n",
      "Epoch 45/60\n",
      "100/100 [==============================] - 2s 17ms/step - loss: 0.1118 - acc: 0.9750\n",
      "Epoch 46/60\n",
      "100/100 [==============================] - 2s 16ms/step - loss: 0.1006 - acc: 0.9500\n",
      "Epoch 47/60\n",
      "100/100 [==============================] - 2s 16ms/step - loss: 0.1800 - acc: 0.9200\n",
      "Epoch 48/60\n",
      "100/100 [==============================] - 2s 16ms/step - loss: 0.0776 - acc: 0.9700\n",
      "Epoch 49/60\n",
      "100/100 [==============================] - 2s 16ms/step - loss: 0.1276 - acc: 0.9400\n",
      "Epoch 50/60\n",
      "100/100 [==============================] - 2s 16ms/step - loss: 0.0694 - acc: 0.9600\n",
      "Epoch 51/60\n",
      "100/100 [==============================] - 2s 16ms/step - loss: 0.9278 - acc: 0.7300\n",
      "Epoch 52/60\n",
      "100/100 [==============================] - 2s 16ms/step - loss: 0.1119 - acc: 0.9800\n",
      "Epoch 53/60\n",
      "100/100 [==============================] - 2s 16ms/step - loss: 0.0765 - acc: 0.9700\n",
      "Epoch 54/60\n",
      "100/100 [==============================] - 2s 16ms/step - loss: 0.0752 - acc: 0.9700\n",
      "Epoch 55/60\n",
      "100/100 [==============================] - 2s 17ms/step - loss: 0.0655 - acc: 0.9750\n",
      "Epoch 56/60\n",
      "100/100 [==============================] - 2s 17ms/step - loss: 0.0675 - acc: 0.9700\n",
      "Epoch 57/60\n",
      "100/100 [==============================] - 2s 17ms/step - loss: 0.0816 - acc: 0.9700\n",
      "Epoch 58/60\n",
      "100/100 [==============================] - 2s 17ms/step - loss: 0.0468 - acc: 0.9800\n",
      "Epoch 59/60\n",
      "100/100 [==============================] - 2s 17ms/step - loss: 0.0443 - acc: 0.9700\n",
      "Epoch 60/60\n",
      "100/100 [==============================] - 2s 17ms/step - loss: 0.0439 - acc: 0.9800\n"
     ]
    },
    {
     "data": {
      "text/plain": [
       "<tensorflow.python.keras.callbacks.History at 0x2744ab83d68>"
      ]
     },
     "execution_count": 18,
     "metadata": {},
     "output_type": "execute_result"
    }
   ],
   "source": [
    "model.fit(imgdata, label, epochs= 60) # 70 worked fine"
   ]
  },
  {
   "cell_type": "code",
   "execution_count": 19,
   "metadata": {},
   "outputs": [],
   "source": [
    "# # Saving the model\n",
    "\n",
    "# # Save the weights\n",
    "# model.save('my_model.h5')\n",
    "\n",
    "# new_model = keras.models.load_model('my_model.h5')\n"
   ]
  },
  {
   "cell_type": "code",
   "execution_count": 20,
   "metadata": {},
   "outputs": [
    {
     "ename": "NameError",
     "evalue": "name 'model' is not defined",
     "output_type": "error",
     "traceback": [
      "\u001b[1;31m---------------------------------------------------------------------------\u001b[0m",
      "\u001b[1;31mNameError\u001b[0m                                 Traceback (most recent call last)",
      "\u001b[1;32m<ipython-input-20-69075f8d7b74>\u001b[0m in \u001b[0;36m<module>\u001b[1;34m\u001b[0m\n\u001b[1;32m----> 1\u001b[1;33m \u001b[0mmodel\u001b[0m\u001b[1;33m.\u001b[0m\u001b[0mpredict\u001b[0m\u001b[1;33m(\u001b[0m\u001b[0mnp\u001b[0m\u001b[1;33m.\u001b[0m\u001b[0marray\u001b[0m\u001b[1;33m(\u001b[0m\u001b[1;33m[\u001b[0m\u001b[0mflatten_arr\u001b[0m\u001b[1;33m(\u001b[0m\u001b[0mresized\u001b[0m\u001b[1;33m)\u001b[0m\u001b[1;33m]\u001b[0m\u001b[1;33m)\u001b[0m\u001b[1;33m)\u001b[0m\u001b[1;33m[\u001b[0m\u001b[1;36m0\u001b[0m\u001b[1;33m]\u001b[0m\u001b[1;33m\u001b[0m\u001b[1;33m\u001b[0m\u001b[0m\n\u001b[0m",
      "\u001b[1;31mNameError\u001b[0m: name 'model' is not defined"
     ]
    }
   ],
   "source": [
    "model.predict(np.array([flatten_arr(resized)]))[0]"
   ]
  },
  {
   "cell_type": "code",
   "execution_count": 21,
   "metadata": {},
   "outputs": [
    {
     "data": {
      "text/plain": [
       "(0,)"
      ]
     },
     "execution_count": 21,
     "metadata": {},
     "output_type": "execute_result"
    }
   ],
   "source": [
    "imgdata.shape"
   ]
  },
  {
   "cell_type": "code",
   "execution_count": 47,
   "metadata": {},
   "outputs": [
    {
     "data": {
      "text/plain": [
       "[]"
      ]
     },
     "execution_count": 47,
     "metadata": {},
     "output_type": "execute_result"
    }
   ],
   "source": [
    "os.listdir(\"./planesDetection\")"
   ]
  },
  {
   "cell_type": "code",
   "execution_count": null,
   "metadata": {},
   "outputs": [],
   "source": []
  }
 ],
 "metadata": {
  "kernelspec": {
   "display_name": "Python 3",
   "language": "python",
   "name": "python3"
  },
  "language_info": {
   "codemirror_mode": {
    "name": "ipython",
    "version": 3
   },
   "file_extension": ".py",
   "mimetype": "text/x-python",
   "name": "python",
   "nbconvert_exporter": "python",
   "pygments_lexer": "ipython3",
   "version": "3.6.7"
  }
 },
 "nbformat": 4,
 "nbformat_minor": 2
}
